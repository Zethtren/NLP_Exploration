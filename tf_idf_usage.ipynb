{
 "metadata": {
  "language_info": {
   "codemirror_mode": {
    "name": "ipython",
    "version": 3
   },
   "file_extension": ".py",
   "mimetype": "text/x-python",
   "name": "python",
   "nbconvert_exporter": "python",
   "pygments_lexer": "ipython3",
   "version": "3.8.5-final"
  },
  "orig_nbformat": 2,
  "kernelspec": {
   "name": "python3",
   "display_name": "Python 3"
  }
 },
 "nbformat": 4,
 "nbformat_minor": 2,
 "cells": [
  {
   "cell_type": "code",
   "execution_count": 1,
   "metadata": {},
   "outputs": [],
   "source": [
    "import tf_idf"
   ]
  },
  {
   "cell_type": "code",
   "execution_count": 2,
   "metadata": {},
   "outputs": [],
   "source": [
    "corpus = [\"Here is some random text\", \"Here is some more random text\", \"Hopefully this is not too much text\", \"I too hope it is not too much text\", \"This text is random\", \"This is what it is\"] \n",
    "tfidf_object = tf_idf.tf_idf_custom_init(corpus)"
   ]
  },
  {
   "cell_type": "code",
   "execution_count": 3,
   "metadata": {},
   "outputs": [
    {
     "output_type": "stream",
     "name": "stdout",
     "text": [
      "This is the resulting dictionary from the custom implementation of vectorizer.get_feature_names: \n===========================================================================================================\n{'Here': 0, 'it': 1, 'Hopefully': 2, 'what': 3, 'hope': 4, 'not': 5, 'much': 6, 'text': 7, 'some': 8, 'more': 9, 'this': 10, 'too': 11, 'random': 12, 'is': 13, 'This': 14, 'I': 15}\n\n\nThese are the results from Term Frequency calculations\n===========================================================================================================\n{'Here': 0.5426313457590625, 'it': 0.0, 'Hopefully': 0.0, 'what': 0.0, 'hope': 0.0, 'not': 0.0, 'much': 0.0, 'text': 0.3390240144987396, 'some': 0.5426313457590625, 'more': 0.0, 'this': 0.0, 'too': 0.0, 'random': 0.4581266681579389, 'is': 0.29374328709790415, 'This': 0.0, 'I': 0.0}\n\n{'Here': 0.45252414990483364, 'it': 0.0, 'Hopefully': 0.0, 'what': 0.0, 'hope': 0.0, 'not': 0.0, 'much': 0.0, 'text': 0.2827270395589821, 'some': 0.45252414990483364, 'more': 0.5518490921879691, 'this': 0.0, 'too': 0.0, 'random': 0.38205198184211747, 'is': 0.24496544905323614, 'This': 0.0, 'I': 0.0}\n\n{'Here': 0.0, 'it': 0.0, 'Hopefully': 0.47262464366629864, 'what': 0.0, 'hope': 0.0, 'not': 0.3875589687956171, 'much': 0.3875589687956171, 'text': 0.24213823709775523, 'some': 0.0, 'more': 0.0, 'this': 0.47262464366629864, 'too': 0.3875589687956171, 'random': 0.0, 'is': 0.20979776846294979, 'This': 0.0, 'I': 0.0}\n\n{'Here': 0.0, 'it': 0.30631494998862974, 'Hopefully': 0.0, 'what': 0.0, 'hope': 0.37354830037331205, 'not': 0.30631494998862974, 'much': 0.30631494998862974, 'text': 0.19137877835062672, 'some': 0.0, 'more': 0.0, 'this': 0.0, 'too': 0.6126298999772595, 'random': 0.0, 'is': 0.16581784484090967, 'This': 0.0, 'I': 0.37354830037331205}\n\n{'Here': 0.0, 'it': 0.0, 'Hopefully': 0.0, 'what': 0.0, 'hope': 0.0, 'not': 0.0, 'much': 0.0, 'text': 0.4036139682101931, 'some': 0.0, 'more': 0.0, 'this': 0.0, 'too': 0.0, 'random': 0.5454077427274032, 'is': 0.3497064770352186, 'This': 0.6460120267907061, 'I': 0.0}\n\n{'Here': 0.0, 'it': 0.46327505318578954, 'Hopefully': 0.0, 'what': 0.5649597211279801, 'hope': 0.0, 'not': 0.0, 'much': 0.0, 'text': 0.0, 'some': 0.0, 'more': 0.0, 'this': 0.0, 'too': 0.0, 'random': 0.0, 'is': 0.5015704972328443, 'This': 0.46327505318578954, 'I': 0.0}\n\n\n\nThis is the result from IDF calculations: \n===========================================================================================================\n{'Here': 1.8472978603872037, 'it': 1.8472978603872037, 'Hopefully': 2.252762968495368, 'what': 2.252762968495368, 'hope': 2.252762968495368, 'not': 1.8472978603872037, 'much': 1.8472978603872037, 'text': 1.1541506798272583, 'some': 1.8472978603872037, 'more': 2.252762968495368, 'this': 2.252762968495368, 'too': 1.8472978603872037, 'random': 1.5596157879354227, 'is': 1.0, 'This': 1.8472978603872037, 'I': 2.252762968495368}\n\n\nThese are the final normalized TF_IDF results\n===========================================================================================================\n{'Here': 0.5426313457590625, 'it': 0.0, 'Hopefully': 0.0, 'what': 0.0, 'hope': 0.0, 'not': 0.0, 'much': 0.0, 'text': 0.3390240144987396, 'some': 0.5426313457590625, 'more': 0.0, 'this': 0.0, 'too': 0.0, 'random': 0.4581266681579389, 'is': 0.29374328709790415, 'This': 0.0, 'I': 0.0}\n\n{'Here': 0.45252414990483364, 'it': 0.0, 'Hopefully': 0.0, 'what': 0.0, 'hope': 0.0, 'not': 0.0, 'much': 0.0, 'text': 0.2827270395589821, 'some': 0.45252414990483364, 'more': 0.5518490921879691, 'this': 0.0, 'too': 0.0, 'random': 0.38205198184211747, 'is': 0.24496544905323614, 'This': 0.0, 'I': 0.0}\n\n{'Here': 0.0, 'it': 0.0, 'Hopefully': 0.47262464366629864, 'what': 0.0, 'hope': 0.0, 'not': 0.3875589687956171, 'much': 0.3875589687956171, 'text': 0.24213823709775523, 'some': 0.0, 'more': 0.0, 'this': 0.47262464366629864, 'too': 0.3875589687956171, 'random': 0.0, 'is': 0.20979776846294979, 'This': 0.0, 'I': 0.0}\n\n{'Here': 0.0, 'it': 0.30631494998862974, 'Hopefully': 0.0, 'what': 0.0, 'hope': 0.37354830037331205, 'not': 0.30631494998862974, 'much': 0.30631494998862974, 'text': 0.19137877835062672, 'some': 0.0, 'more': 0.0, 'this': 0.0, 'too': 0.6126298999772595, 'random': 0.0, 'is': 0.16581784484090967, 'This': 0.0, 'I': 0.37354830037331205}\n\n{'Here': 0.0, 'it': 0.0, 'Hopefully': 0.0, 'what': 0.0, 'hope': 0.0, 'not': 0.0, 'much': 0.0, 'text': 0.4036139682101931, 'some': 0.0, 'more': 0.0, 'this': 0.0, 'too': 0.0, 'random': 0.5454077427274032, 'is': 0.3497064770352186, 'This': 0.6460120267907061, 'I': 0.0}\n\n{'Here': 0.0, 'it': 0.46327505318578954, 'Hopefully': 0.0, 'what': 0.5649597211279801, 'hope': 0.0, 'not': 0.0, 'much': 0.0, 'text': 0.0, 'some': 0.0, 'more': 0.0, 'this': 0.0, 'too': 0.0, 'random': 0.0, 'is': 0.5015704972328443, 'This': 0.46327505318578954, 'I': 0.0}\n\n\n\n"
     ]
    }
   ],
   "source": [
    "\n",
    "tfidf_object.print_word_map_results()\n",
    "tfidf_object.print_tf_results()\n",
    "tfidf_object.print_idf_results()\n",
    "tfidf_object.print_tfidf_results()"
   ]
  },
  {
   "cell_type": "code",
   "execution_count": null,
   "metadata": {},
   "outputs": [],
   "source": []
  }
 ]
}